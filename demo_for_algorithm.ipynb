{
  "cells": [
    {
      "cell_type": "code",
      "execution_count": 2,
      "metadata": {
        "pycharm": {
          "is_executing": false
        }
      },
      "outputs": [],
      "source": [
        "import subprocess\n",
        "import wave\n",
        "import struct\n",
        "import numpy as np\n",
        "import csv\n",
        "import sys\n",
        "import os\n",
        "import matplotlib.pyplot as plt\n",
        "from scipy import signal\n",
        "from matplotlib.colors import BoundaryNorm\n",
        "import matplotlib.colors as colors\n",
        "import scipy.io.wavfile\n",
        "\n",
        "import copy\n",
        "\n",
        "from scipy.signal import butter, lfilter, freqz\n",
        "%matplotlib notebook"
      ]
    },
    {
      "cell_type": "code",
      "execution_count": 3,
      "metadata": {
        "pycharm": {
          "is_executing": false
        }
      },
      "outputs": [],
      "source": [
        "def read_wav(wav_file):\n",
        "    types \u003d {\n",
        "        1: np.int8,\n",
        "        2: np.int16,\n",
        "        4: np.int32\n",
        "    }\n",
        "    w \u003d wave.open(wav_file)\n",
        "    params \u003d dict(zip([\u0027nchannels\u0027, \u0027sampwidth\u0027, \u0027framerate\u0027, \u0027nframes\u0027, \u0027comptype\u0027, \u0027compname\u0027], w.getparams()))\n",
        "    print(params)\n",
        "    content \u003d w.readframes(params[\u0027nframes\u0027])\n",
        "    samples \u003d np.frombuffer(content, dtype\u003dtypes[params[\u0027sampwidth\u0027]])\n",
        "    channels \u003d np.zeros((params[\u0027nchannels\u0027], int(samples.size/params[\u0027nchannels\u0027]) ))   \n",
        "    for n in range(params[\u0027nchannels\u0027]):\n",
        "        channels[n] \u003d samples[n::params[\u0027nchannels\u0027]]  \n",
        "    return params, channels\n",
        "\n",
        "\n",
        "def convert2wav(file, mono\u003dTrue, freq \u003d 10000):\n",
        "    mpg123_command \u003d \u0027mpg123 -w \\\"%s\\\" -r {} \\\"%s\\\"\u0027.format(freq)\n",
        "    if mono:\n",
        "        mpg123_command \u003d \u0027mpg123 -w \\\"%s\\\" -r {} -m \\\"%s\\\"\u0027.format(freq)\n",
        "    file_name \u003d file.split(\u0027.\u0027)[0]\n",
        "    file_name \u003d file_name.split(\u0027/\u0027)[-1]\n",
        "    out_file \u003d \u0027/mnt/tmpfs/{}.wav\u0027.format(file_name)\n",
        "    cmd \u003d mpg123_command % (out_file, file)\n",
        "    os.system(cmd)\n",
        "    return out_file"
      ]
    },
    {
      "cell_type": "code",
      "execution_count": 4,
      "metadata": {
        "pycharm": {
          "is_executing": false
        }
      },
      "outputs": [],
      "source": [
        "def convert2wav(file, mono\u003dTrue, freq \u003d 44100):\n",
        "    mpg123_command \u003d \u0027mpg123 -w \\\"%s\\\" -r {} \\\"%s\\\"\u0027.format(freq)\n",
        "    if mono:\n",
        "        mpg123_command \u003d \u0027mpg123 -w \\\"%s\\\" -r {} -m \\\"%s\\\"\u0027.format(freq)\n",
        "    file_name \u003d file.split(\u0027.\u0027)[0]\n",
        "    file_name \u003d file_name.split(\u0027/\u0027)[-1]\n",
        "    out_file \u003d \u0027./{}_remade.wav\u0027.format(file_name)\n",
        "    cmd \u003d mpg123_command % (out_file, file)\n",
        "    os.system(cmd)\n",
        "    print(cmd)\n",
        "    return out_file"
      ]
    },
    {
      "cell_type": "code",
      "execution_count": 5,
      "metadata": {
        "pycharm": {
          "is_executing": false
        }
      },
      "outputs": [
        {
          "name": "stdout",
          "text": [
            "mpg123 -w \"./402656__inspectorj__orchestral-strings-warm-a_remade.wav\" -r 44100 -m \"/home/oscil/github/audio_projects/demo_algorithm/402656__inspectorj__orchestral-strings-warm-a.wav\"\n"
          ],
          "output_type": "stream"
        }
      ],
      "source": [
        "baby_cry_file \u003d \u0027144473__panikko__baby-crying.wav\u0027\n",
        "strings_file_raw \u003d \u0027402656__inspectorj__orchestral-strings-warm-a.wav\u0027\n",
        "convert2wav(os.path.join(os.getcwd(), strings_file_raw))\n",
        "strings_file \u003d \u0027402656__inspectorj__orchestral-strings-warm-a_remade.wav\u0027"
      ]
    },
    {
      "cell_type": "code",
      "execution_count": 6,
      "metadata": {
        "pycharm": {
          "is_executing": false
        }
      },
      "outputs": [
        {
          "traceback": [
            "\u001b[0;31m---------------------------------------------------------------------------\u001b[0m",
            "\u001b[0;31mFileNotFoundError\u001b[0m                         Traceback (most recent call last)",
            "\u001b[0;32m\u003cipython-input-6-f73b0c1e6ac5\u003e\u001b[0m in \u001b[0;36m\u003cmodule\u003e\u001b[0;34m\u001b[0m\n\u001b[0;32m----\u003e 1\u001b[0;31m \u001b[0mparams_baby\u001b[0m\u001b[0;34m,\u001b[0m \u001b[0msamples_baby\u001b[0m \u001b[0;34m\u003d\u001b[0m \u001b[0mread_wav\u001b[0m\u001b[0;34m(\u001b[0m\u001b[0mbaby_cry_file\u001b[0m\u001b[0;34m)\u001b[0m\u001b[0;34m\u001b[0m\u001b[0;34m\u001b[0m\u001b[0m\n\u001b[0m\u001b[1;32m      2\u001b[0m \u001b[0mparams_strings\u001b[0m\u001b[0;34m,\u001b[0m \u001b[0msamples_strings\u001b[0m \u001b[0;34m\u003d\u001b[0m \u001b[0mread_wav\u001b[0m\u001b[0;34m(\u001b[0m\u001b[0mstrings_file\u001b[0m\u001b[0;34m)\u001b[0m\u001b[0;34m\u001b[0m\u001b[0;34m\u001b[0m\u001b[0m\n",
            "\u001b[0;32m\u003cipython-input-3-7390d4ee2b1a\u003e\u001b[0m in \u001b[0;36mread_wav\u001b[0;34m(wav_file)\u001b[0m\n\u001b[1;32m      5\u001b[0m         \u001b[0;36m4\u001b[0m\u001b[0;34m:\u001b[0m \u001b[0mnp\u001b[0m\u001b[0;34m.\u001b[0m\u001b[0mint32\u001b[0m\u001b[0;34m\u001b[0m\u001b[0;34m\u001b[0m\u001b[0m\n\u001b[1;32m      6\u001b[0m     }\n\u001b[0;32m----\u003e 7\u001b[0;31m     \u001b[0mw\u001b[0m \u001b[0;34m\u003d\u001b[0m \u001b[0mwave\u001b[0m\u001b[0;34m.\u001b[0m\u001b[0mopen\u001b[0m\u001b[0;34m(\u001b[0m\u001b[0mwav_file\u001b[0m\u001b[0;34m)\u001b[0m\u001b[0;34m\u001b[0m\u001b[0;34m\u001b[0m\u001b[0m\n\u001b[0m\u001b[1;32m      8\u001b[0m     \u001b[0mparams\u001b[0m \u001b[0;34m\u003d\u001b[0m \u001b[0mdict\u001b[0m\u001b[0;34m(\u001b[0m\u001b[0mzip\u001b[0m\u001b[0;34m(\u001b[0m\u001b[0;34m[\u001b[0m\u001b[0;34m\u0027nchannels\u0027\u001b[0m\u001b[0;34m,\u001b[0m \u001b[0;34m\u0027sampwidth\u0027\u001b[0m\u001b[0;34m,\u001b[0m \u001b[0;34m\u0027framerate\u0027\u001b[0m\u001b[0;34m,\u001b[0m \u001b[0;34m\u0027nframes\u0027\u001b[0m\u001b[0;34m,\u001b[0m \u001b[0;34m\u0027comptype\u0027\u001b[0m\u001b[0;34m,\u001b[0m \u001b[0;34m\u0027compname\u0027\u001b[0m\u001b[0;34m]\u001b[0m\u001b[0;34m,\u001b[0m \u001b[0mw\u001b[0m\u001b[0;34m.\u001b[0m\u001b[0mgetparams\u001b[0m\u001b[0;34m(\u001b[0m\u001b[0;34m)\u001b[0m\u001b[0;34m)\u001b[0m\u001b[0;34m)\u001b[0m\u001b[0;34m\u001b[0m\u001b[0;34m\u001b[0m\u001b[0m\n\u001b[1;32m      9\u001b[0m     \u001b[0mprint\u001b[0m\u001b[0;34m(\u001b[0m\u001b[0mparams\u001b[0m\u001b[0;34m)\u001b[0m\u001b[0;34m\u001b[0m\u001b[0;34m\u001b[0m\u001b[0m\n",
            "\u001b[0;32m~/anaconda3/lib/python3.6/wave.py\u001b[0m in \u001b[0;36mopen\u001b[0;34m(f, mode)\u001b[0m\n\u001b[1;32m    497\u001b[0m             \u001b[0mmode\u001b[0m \u001b[0;34m\u003d\u001b[0m \u001b[0;34m\u0027rb\u0027\u001b[0m\u001b[0;34m\u001b[0m\u001b[0;34m\u001b[0m\u001b[0m\n\u001b[1;32m    498\u001b[0m     \u001b[0;32mif\u001b[0m \u001b[0mmode\u001b[0m \u001b[0;32min\u001b[0m \u001b[0;34m(\u001b[0m\u001b[0;34m\u0027r\u0027\u001b[0m\u001b[0;34m,\u001b[0m \u001b[0;34m\u0027rb\u0027\u001b[0m\u001b[0;34m)\u001b[0m\u001b[0;34m:\u001b[0m\u001b[0;34m\u001b[0m\u001b[0;34m\u001b[0m\u001b[0m\n\u001b[0;32m--\u003e 499\u001b[0;31m         \u001b[0;32mreturn\u001b[0m \u001b[0mWave_read\u001b[0m\u001b[0;34m(\u001b[0m\u001b[0mf\u001b[0m\u001b[0;34m)\u001b[0m\u001b[0;34m\u001b[0m\u001b[0;34m\u001b[0m\u001b[0m\n\u001b[0m\u001b[1;32m    500\u001b[0m     \u001b[0;32melif\u001b[0m \u001b[0mmode\u001b[0m \u001b[0;32min\u001b[0m \u001b[0;34m(\u001b[0m\u001b[0;34m\u0027w\u0027\u001b[0m\u001b[0;34m,\u001b[0m \u001b[0;34m\u0027wb\u0027\u001b[0m\u001b[0;34m)\u001b[0m\u001b[0;34m:\u001b[0m\u001b[0;34m\u001b[0m\u001b[0;34m\u001b[0m\u001b[0m\n\u001b[1;32m    501\u001b[0m         \u001b[0;32mreturn\u001b[0m \u001b[0mWave_write\u001b[0m\u001b[0;34m(\u001b[0m\u001b[0mf\u001b[0m\u001b[0;34m)\u001b[0m\u001b[0;34m\u001b[0m\u001b[0;34m\u001b[0m\u001b[0m\n",
            "\u001b[0;32m~/anaconda3/lib/python3.6/wave.py\u001b[0m in \u001b[0;36m__init__\u001b[0;34m(self, f)\u001b[0m\n\u001b[1;32m    157\u001b[0m         \u001b[0mself\u001b[0m\u001b[0;34m.\u001b[0m\u001b[0m_i_opened_the_file\u001b[0m \u001b[0;34m\u003d\u001b[0m \u001b[0;32mNone\u001b[0m\u001b[0;34m\u001b[0m\u001b[0;34m\u001b[0m\u001b[0m\n\u001b[1;32m    158\u001b[0m         \u001b[0;32mif\u001b[0m \u001b[0misinstance\u001b[0m\u001b[0;34m(\u001b[0m\u001b[0mf\u001b[0m\u001b[0;34m,\u001b[0m \u001b[0mstr\u001b[0m\u001b[0;34m)\u001b[0m\u001b[0;34m:\u001b[0m\u001b[0;34m\u001b[0m\u001b[0;34m\u001b[0m\u001b[0m\n\u001b[0;32m--\u003e 159\u001b[0;31m             \u001b[0mf\u001b[0m \u001b[0;34m\u003d\u001b[0m \u001b[0mbuiltins\u001b[0m\u001b[0;34m.\u001b[0m\u001b[0mopen\u001b[0m\u001b[0;34m(\u001b[0m\u001b[0mf\u001b[0m\u001b[0;34m,\u001b[0m \u001b[0;34m\u0027rb\u0027\u001b[0m\u001b[0;34m)\u001b[0m\u001b[0;34m\u001b[0m\u001b[0;34m\u001b[0m\u001b[0m\n\u001b[0m\u001b[1;32m    160\u001b[0m             \u001b[0mself\u001b[0m\u001b[0;34m.\u001b[0m\u001b[0m_i_opened_the_file\u001b[0m \u001b[0;34m\u003d\u001b[0m \u001b[0mf\u001b[0m\u001b[0;34m\u001b[0m\u001b[0;34m\u001b[0m\u001b[0m\n\u001b[1;32m    161\u001b[0m         \u001b[0;31m# else, assume it is an open file object already\u001b[0m\u001b[0;34m\u001b[0m\u001b[0;34m\u001b[0m\u001b[0;34m\u001b[0m\u001b[0m\n",
            "\u001b[0;31mFileNotFoundError\u001b[0m: [Errno 2] No such file or directory: \u0027144473__panikko__baby-crying.wav\u0027"
          ],
          "ename": "FileNotFoundError",
          "evalue": "[Errno 2] No such file or directory: \u0027144473__panikko__baby-crying.wav\u0027",
          "output_type": "error"
        }
      ],
      "source": [
        "params_baby, samples_baby \u003d read_wav(baby_cry_file)\n",
        "params_strings, samples_strings \u003d read_wav(strings_file)"
      ]
    },
    {
      "cell_type": "code",
      "execution_count": 7,
      "metadata": {
        "pycharm": {
          "is_executing": false
        }
      },
      "outputs": [
        {
          "traceback": [
            "\u001b[0;31m---------------------------------------------------------------------------\u001b[0m",
            "\u001b[0;31mNameError\u001b[0m                                 Traceback (most recent call last)",
            "\u001b[0;32m\u003cipython-input-7-1595ca711616\u003e\u001b[0m in \u001b[0;36m\u003cmodule\u003e\u001b[0;34m\u001b[0m\n\u001b[1;32m      1\u001b[0m \u001b[0mplot_seconds\u001b[0m \u001b[0;34m\u003d\u001b[0m \u001b[0;36m70\u001b[0m\u001b[0;34m\u001b[0m\u001b[0;34m\u001b[0m\u001b[0m\n\u001b[0;32m----\u003e 2\u001b[0;31m \u001b[0mplot_sample\u001b[0m \u001b[0;34m\u003d\u001b[0m \u001b[0msamples_baby\u001b[0m\u001b[0;34m[\u001b[0m\u001b[0;36m0\u001b[0m\u001b[0;34m]\u001b[0m\u001b[0;34m[\u001b[0m\u001b[0;34m:\u001b[0m\u001b[0mparams_baby\u001b[0m\u001b[0;34m[\u001b[0m\u001b[0;34m\u0027framerate\u0027\u001b[0m\u001b[0;34m]\u001b[0m\u001b[0;34m*\u001b[0m\u001b[0mplot_seconds\u001b[0m\u001b[0;34m]\u001b[0m\u001b[0;34m\u001b[0m\u001b[0;34m\u001b[0m\u001b[0m\n\u001b[0m\u001b[1;32m      3\u001b[0m \u001b[0;31m# f, t, Sxx \u003d signal.spectrogram(plot_sample, params_baby[\u0027framerate\u0027], nperseg \u003d 512, noverlap \u003d 256)\u001b[0m\u001b[0;34m\u001b[0m\u001b[0;34m\u001b[0m\u001b[0;34m\u001b[0m\u001b[0m\n\u001b[1;32m      4\u001b[0m \u001b[0mf_baby\u001b[0m\u001b[0;34m,\u001b[0m \u001b[0mt_baby\u001b[0m\u001b[0;34m,\u001b[0m \u001b[0mSxx_baby\u001b[0m \u001b[0;34m\u003d\u001b[0m \u001b[0msignal\u001b[0m\u001b[0;34m.\u001b[0m\u001b[0mspectrogram\u001b[0m\u001b[0;34m(\u001b[0m\u001b[0mplot_sample\u001b[0m\u001b[0;34m,\u001b[0m \u001b[0mparams_baby\u001b[0m\u001b[0;34m[\u001b[0m\u001b[0;34m\u0027framerate\u0027\u001b[0m\u001b[0;34m]\u001b[0m\u001b[0;34m,\u001b[0m \u001b[0mnperseg\u001b[0m \u001b[0;34m\u003d\u001b[0m \u001b[0;36m1024\u001b[0m\u001b[0;34m,\u001b[0m \u001b[0mnoverlap\u001b[0m \u001b[0;34m\u003d\u001b[0m \u001b[0;36m512\u001b[0m\u001b[0;34m)\u001b[0m\u001b[0;34m\u001b[0m\u001b[0;34m\u001b[0m\u001b[0m\n\u001b[1;32m      5\u001b[0m \u001b[0mfig\u001b[0m\u001b[0;34m,\u001b[0m \u001b[0max\u001b[0m \u001b[0;34m\u003d\u001b[0m \u001b[0mplt\u001b[0m\u001b[0;34m.\u001b[0m\u001b[0msubplots\u001b[0m\u001b[0;34m(\u001b[0m\u001b[0;34m)\u001b[0m\u001b[0;34m\u001b[0m\u001b[0;34m\u001b[0m\u001b[0m\n",
            "\u001b[0;31mNameError\u001b[0m: name \u0027samples_baby\u0027 is not defined"
          ],
          "ename": "NameError",
          "evalue": "name \u0027samples_baby\u0027 is not defined",
          "output_type": "error"
        }
      ],
      "source": [
        "plot_seconds \u003d 70\n",
        "plot_sample \u003d samples_baby[0][:params_baby[\u0027framerate\u0027]*plot_seconds]\n",
        "# f, t, Sxx \u003d signal.spectrogram(plot_sample, params_baby[\u0027framerate\u0027], nperseg \u003d 512, noverlap \u003d 256)\n",
        "f_baby, t_baby, Sxx_baby \u003d signal.spectrogram(plot_sample, params_baby[\u0027framerate\u0027], nperseg \u003d 1024, noverlap \u003d 512)\n",
        "fig, ax \u003d plt.subplots()\n",
        "pcm \u003d ax.pcolormesh(t_baby, f_baby, Sxx_baby, norm\u003dcolors.PowerNorm(gamma\u003d1./5.) )\n",
        "fig.colorbar(pcm, ax\u003dax, extend\u003d\u0027max\u0027)\n",
        "ax.set_ylabel(\u0027Frequency [Hz]\u0027)\n",
        "ax.set_xlabel(\u0027Time [sec]\u0027)"
      ]
    },
    {
      "cell_type": "code",
      "execution_count": 8,
      "metadata": {
        "pycharm": {
          "is_executing": false
        }
      },
      "outputs": [
        {
          "traceback": [
            "\u001b[0;31m---------------------------------------------------------------------------\u001b[0m",
            "\u001b[0;31mNameError\u001b[0m                                 Traceback (most recent call last)",
            "\u001b[0;32m\u003cipython-input-8-42522d63c239\u003e\u001b[0m in \u001b[0;36m\u003cmodule\u003e\u001b[0;34m\u001b[0m\n\u001b[0;32m----\u003e 1\u001b[0;31m \u001b[0mplot_sample\u001b[0m \u001b[0;34m\u003d\u001b[0m \u001b[0msamples_strings\u001b[0m\u001b[0;34m[\u001b[0m\u001b[0;36m0\u001b[0m\u001b[0;34m]\u001b[0m\u001b[0;34m[\u001b[0m\u001b[0;34m:\u001b[0m\u001b[0mparams_strings\u001b[0m\u001b[0;34m[\u001b[0m\u001b[0;34m\u0027framerate\u0027\u001b[0m\u001b[0;34m]\u001b[0m\u001b[0;34m*\u001b[0m\u001b[0mplot_seconds\u001b[0m\u001b[0;34m]\u001b[0m\u001b[0;34m\u001b[0m\u001b[0;34m\u001b[0m\u001b[0m\n\u001b[0m\u001b[1;32m      2\u001b[0m \u001b[0mf_strings\u001b[0m\u001b[0;34m,\u001b[0m \u001b[0mt_strings\u001b[0m\u001b[0;34m,\u001b[0m \u001b[0mSxx_strings\u001b[0m \u001b[0;34m\u003d\u001b[0m \u001b[0msignal\u001b[0m\u001b[0;34m.\u001b[0m\u001b[0mspectrogram\u001b[0m\u001b[0;34m(\u001b[0m\u001b[0mplot_sample\u001b[0m\u001b[0;34m,\u001b[0m \u001b[0mparams_strings\u001b[0m\u001b[0;34m[\u001b[0m\u001b[0;34m\u0027framerate\u0027\u001b[0m\u001b[0;34m]\u001b[0m\u001b[0;34m,\u001b[0m \u001b[0mnperseg\u001b[0m \u001b[0;34m\u003d\u001b[0m \u001b[0;36m1024\u001b[0m\u001b[0;34m,\u001b[0m \u001b[0mnoverlap\u001b[0m \u001b[0;34m\u003d\u001b[0m \u001b[0;36m512\u001b[0m\u001b[0;34m)\u001b[0m\u001b[0;34m\u001b[0m\u001b[0;34m\u001b[0m\u001b[0m\n",
            "\u001b[0;31mNameError\u001b[0m: name \u0027samples_strings\u0027 is not defined"
          ],
          "ename": "NameError",
          "evalue": "name \u0027samples_strings\u0027 is not defined",
          "output_type": "error"
        }
      ],
      "source": [
        "plot_sample \u003d samples_strings[0][:params_strings[\u0027framerate\u0027]*plot_seconds]\n",
        "f_strings, t_strings, Sxx_strings \u003d signal.spectrogram(plot_sample, params_strings[\u0027framerate\u0027], nperseg \u003d 1024, noverlap \u003d 512)"
      ]
    },
    {
      "cell_type": "code",
      "execution_count": 9,
      "metadata": {
        "pycharm": {
          "is_executing": false
        }
      },
      "outputs": [
        {
          "traceback": [
            "\u001b[0;31m---------------------------------------------------------------------------\u001b[0m",
            "\u001b[0;31mNameError\u001b[0m                                 Traceback (most recent call last)",
            "\u001b[0;32m\u003cipython-input-9-aa6ea02d00d8\u003e\u001b[0m in \u001b[0;36m\u003cmodule\u003e\u001b[0;34m\u001b[0m\n\u001b[0;32m----\u003e 1\u001b[0;31m \u001b[0mSxx_strings\u001b[0m\u001b[0;34m\u001b[0m\u001b[0;34m\u001b[0m\u001b[0m\n\u001b[0m",
            "\u001b[0;31mNameError\u001b[0m: name \u0027Sxx_strings\u0027 is not defined"
          ],
          "ename": "NameError",
          "evalue": "name \u0027Sxx_strings\u0027 is not defined",
          "output_type": "error"
        }
      ],
      "source": [
        "Sxx_strings"
      ]
    },
    {
      "cell_type": "code",
      "execution_count": 10,
      "metadata": {
        "pycharm": {
          "is_executing": false
        }
      },
      "outputs": [
        {
          "traceback": [
            "\u001b[0;31m---------------------------------------------------------------------------\u001b[0m",
            "\u001b[0;31mNameError\u001b[0m                                 Traceback (most recent call last)",
            "\u001b[0;32m\u003cipython-input-10-71ae100dcb1d\u003e\u001b[0m in \u001b[0;36m\u003cmodule\u003e\u001b[0;34m\u001b[0m\n\u001b[0;32m----\u003e 1\u001b[0;31m \u001b[0msum_spectrum_baby\u001b[0m \u001b[0;34m\u003d\u001b[0m \u001b[0msum\u001b[0m\u001b[0;34m(\u001b[0m\u001b[0mSxx_baby\u001b[0m\u001b[0;34m)\u001b[0m\u001b[0;34m\u001b[0m\u001b[0;34m\u001b[0m\u001b[0m\n\u001b[0m\u001b[1;32m      2\u001b[0m \u001b[0msum_spectrum_strings\u001b[0m \u001b[0;34m\u003d\u001b[0m \u001b[0msum\u001b[0m\u001b[0;34m(\u001b[0m\u001b[0mSxx_strings\u001b[0m\u001b[0;34m)\u001b[0m\u001b[0;34m\u001b[0m\u001b[0;34m\u001b[0m\u001b[0m\n\u001b[1;32m      3\u001b[0m \u001b[0;34m\u001b[0m\u001b[0m\n\u001b[1;32m      4\u001b[0m \u001b[0mfig\u001b[0m\u001b[0;34m,\u001b[0m \u001b[0max\u001b[0m \u001b[0;34m\u003d\u001b[0m \u001b[0mplt\u001b[0m\u001b[0;34m.\u001b[0m\u001b[0msubplots\u001b[0m\u001b[0;34m(\u001b[0m\u001b[0;34m)\u001b[0m\u001b[0;34m\u001b[0m\u001b[0;34m\u001b[0m\u001b[0m\n\u001b[1;32m      5\u001b[0m \u001b[0max\u001b[0m\u001b[0;34m.\u001b[0m\u001b[0mplot\u001b[0m\u001b[0;34m(\u001b[0m\u001b[0msum_spectrum_baby\u001b[0m\u001b[0;34m)\u001b[0m\u001b[0;34m\u001b[0m\u001b[0;34m\u001b[0m\u001b[0m\n",
            "\u001b[0;31mNameError\u001b[0m: name \u0027Sxx_baby\u0027 is not defined"
          ],
          "ename": "NameError",
          "evalue": "name \u0027Sxx_baby\u0027 is not defined",
          "output_type": "error"
        }
      ],
      "source": [
        "sum_spectrum_baby \u003d sum(Sxx_baby)\n",
        "sum_spectrum_strings \u003d sum(Sxx_strings)\n",
        "\n",
        "fig, ax \u003d plt.subplots()\n",
        "ax.plot(sum_spectrum_baby)\n",
        "ax.plot(sum_spectrum_strings,ls\u003d\u0027--\u0027)"
      ]
    },
    {
      "cell_type": "code",
      "execution_count": null,
      "metadata": {
        "pycharm": {
          "name": "#%%"
        }
      },
      "outputs": [],
      "source": ""
    }
  ],
  "metadata": {
    "kernelspec": {
      "name": "pycharm-bf0f3561",
      "language": "python",
      "display_name": "PyCharm (demo_algorithm)"
    },
    "language_info": {
      "codemirror_mode": {
        "name": "ipython",
        "version": 3
      },
      "file_extension": ".py",
      "mimetype": "text/x-python",
      "name": "python",
      "nbconvert_exporter": "python",
      "pygments_lexer": "ipython3",
      "version": "3.6.8"
    }
  },
  "nbformat": 4,
  "nbformat_minor": 2
}