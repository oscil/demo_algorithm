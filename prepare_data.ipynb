{
 "cells": [
  {
   "cell_type": "code",
   "execution_count": 1,
   "metadata": {},
   "outputs": [],
   "source": [
    "import numpy as np\n",
    "import os\n",
    "import matplotlib.pyplot as plt\n",
    "\n",
    "from matplotlib.colors import BoundaryNorm\n",
    "import matplotlib.colors as colors\n",
    "from scipy import signal\n",
    "import pickle\n",
    "from multiprocessing.pool import Pool\n",
    "\n",
    "import demo_common\n",
    "%matplotlib notebook"
   ]
  },
  {
   "cell_type": "code",
   "execution_count": null,
   "metadata": {},
   "outputs": [],
   "source": [
    "#### create ram DISK\n",
    "# sudo mkdir /mnt/tmpfs/\n",
    "# sudo chmod 777 /mnt/tmpfs/\n",
    "# sudo mount -t tmpfs -o size=300M tmpfs /mnt/tmpfs\n",
    "\n",
    "## in /etc/fstab\n",
    "#tmpfs /mnt/tmpfs tmpfs defaults,size=500M 0 0"
   ]
  },
  {
   "cell_type": "markdown",
   "metadata": {},
   "source": [
    "### Get all MP3 files in path"
   ]
  },
  {
   "cell_type": "code",
   "execution_count": 47,
   "metadata": {},
   "outputs": [],
   "source": [
    "mp3_files = []\n",
    "\n",
    "def get_mp3_files(path):\n",
    "    for path, dirs, files in os.walk(path):\n",
    "        for f in files:\n",
    "            if not f.endswith('.mp3'):\n",
    "                continue\n",
    "            mp3_file = os.path.join(path, f)\n",
    "            mp3_files.append(mp3_file)\n",
    "            \n",
    "get_mp3_files('/home/oscil/Downloads/')"
   ]
  },
  {
   "cell_type": "code",
   "execution_count": 48,
   "metadata": {},
   "outputs": [
    {
     "data": {
      "text/plain": [
       "611"
      ]
     },
     "execution_count": 48,
     "metadata": {},
     "output_type": "execute_result"
    }
   ],
   "source": [
    "len(mp3_files)"
   ]
  },
  {
   "cell_type": "code",
   "execution_count": 49,
   "metadata": {},
   "outputs": [],
   "source": [
    "def make_sum_pkl_for_file(file):\n",
    "    out_file_name = demo_common.convert2wav(file, freq = 44100, mono=True)\n",
    "    params, samples = demo_common.read_wav(out_file_name)\n",
    "    os.remove(out_file_name)\n",
    "    samples = samples[0]\n",
    "    \n",
    "    fft_samples = 2048\n",
    "    fft_overlap = 1024\n",
    "    \n",
    "    f, t, Sxx = signal.spectrogram(samples, \n",
    "                                   params['framerate'], \n",
    "                                   nperseg = fft_samples, \n",
    "                                   noverlap = fft_overlap)\n",
    "    \n",
    "    chunk_size_sec = 30\n",
    "    freq_chunks_in_second = 44100/(fft_samples - fft_overlap)\n",
    "    \n",
    "    spec_sums = []\n",
    "    cur_sum = None\n",
    "    last_chunk_t = 0\n",
    "    for idx in range(len(t)):\n",
    "        if (t[idx] - last_chunk_t)//chunk_size_sec:\n",
    "            spec_sums.append( {'t':last_chunk_t, 's':cur_sum} )\n",
    "            last_chunk_t = t[idx]\n",
    "            cur_sum = None\n",
    "        else:\n",
    "            if cur_sum is None:\n",
    "                cur_sum = Sxx.T[idx]\n",
    "            else:\n",
    "                cur_sum += Sxx.T[idx]\n",
    "    out_dir = '/home/oscil/prepared_music_files/'\n",
    "    out_dict = {'f':file, 'sums':spec_sums}\n",
    "    \n",
    "    out_file_name = out_file_name.split('/')[-1]\n",
    "    out_file_name = out_file_name.split('.')[0]\n",
    "    out_file_name = out_file_name[-min(len(out_file_name),80):]\n",
    "    try:\n",
    "        with open( out_dir + out_file_name+'_s.pkl', 'wb') as f:       \n",
    "            pickle.dump(out_dict, f)\n",
    "    except OSError as exc:\n",
    "        if exc.errno == 36:\n",
    "            print('Handled error FILE NAME TOO LONG for {}'.format(out_file_name) )"
   ]
  },
  {
   "cell_type": "code",
   "execution_count": 51,
   "metadata": {},
   "outputs": [
    {
     "data": {
      "text/plain": [
       "611"
      ]
     },
     "execution_count": 51,
     "metadata": {},
     "output_type": "execute_result"
    }
   ],
   "source": [
    "len(mp3_files)"
   ]
  },
  {
   "cell_type": "code",
   "execution_count": 50,
   "metadata": {},
   "outputs": [
    {
     "name": "stdout",
     "output_type": "stream",
     "text": [
      "Handled error FILE NAME TOO LONG for _Оркестр Поля Мориа_1981 Оркестр Поля Мориа - Под музыку Вивальди_04 - Жаворонок\n",
      "Handled error FILE NAME TOO LONG for оля Мориа_1981 Оркестр Поля Мориа - Под музыку Вивальди_01 - Под Музыку Вивальди\n",
      "Handled error FILE NAME TOO LONG for Оркестр Поля Мориа_1981 Оркестр Поля Мориа - Под музыку Вивальди_12 - Бабье Лето\n",
      "Handled error FILE NAME TOO LONG for Оркестр Поля Мориа_1981 Оркестр Поля Мориа - Под музыку Вивальди_14 - За Любовью\n",
      "Handled error FILE NAME TOO LONG for Мориа_1981 Оркестр Поля Мориа - Под музыку Вивальди_05 - Пусть Нам Светит Солнце\n",
      "Handled error FILE NAME TOO LONG for ркестр Поля Мориа_1981 Оркестр Поля Мориа - Под музыку Вивальди_07 - Приключения\n",
      "Handled error FILE NAME TOO LONG for стр Поля Мориа_1981 Оркестр Поля Мориа - Под музыку Вивальди_03 - Любовь Грустна\n",
      "Handled error FILE NAME TOO LONG for _Оркестр Поля Мориа_1974 Оркестр Поля Мориа - Музыка из кинофильмов_06 - Встреча\n",
      "Handled error FILE NAME TOO LONG for тр Поля Мориа_1974 Оркестр Поля Мориа - Музыка из кинофильмов_01 - Говорите Тише\n",
      "Handled error FILE NAME TOO LONG for оля Мориа_1974 Оркестр Поля Мориа - Музыка из кинофильмов_03 - Мужчина И Женщина\n",
      "Handled error FILE NAME TOO LONG for  Поля Мориа_1974 Оркестр Поля Мориа - Музыка из кинофильмов_12 - Закрытые Ставни\n",
      "Handled error FILE NAME TOO LONG for Оркестр Поля Мориа_1974 Оркестр Поля Мориа - Музыка из кинофильмов_13 - Смятение\n",
      "Handled error FILE NAME TOO LONG for _Оркестр Поля Мориа_1974 Оркестр Поля Мориа - Музыка из кинофильмов_04 - Мелодия\n",
      "Handled error FILE NAME TOO LONG for тр Поля Мориа_1974 Оркестр Поля Мориа - Музыка из кинофильмов_08 - История Любви\n",
      "Handled error FILE NAME TOO LONG for ля Мориа_1974 Оркестр Поля Мориа - Музыка из кинофильмов_09 - Шербурские Зонтики\n",
      "Handled error FILE NAME TOO LONG for  Поля Мориа_1974 Оркестр Поля Мориа - Музыка из кинофильмов_14 - Песня Борсалино\n",
      "Handled error FILE NAME TOO LONG for я Мориа_1974 Оркестр Поля Мориа - Музыка из кинофильмов_02 - Пассажир Под Дождем\n",
      "Handled error FILE NAME TOO LONG for Мориа_1974 Оркестр Поля Мориа - Музыка из кинофильмов_05 - Мельницы Моего Сердца\n",
      "Handled error FILE NAME TOO LONG for s_Оркестр Поля Мориа_1975 Оркестр Поля Мориа (Франция)_10 - Классическая Отгадка\n",
      "Handled error FILE NAME TOO LONG for ркестр Поля Мориа_1975 Оркестр Поля Мориа (Франция)_07 - Мост Над Бурными Водами\n"
     ]
    },
    {
     "ename": "TypeError",
     "evalue": "zip argument #1 must support iteration",
     "output_type": "error",
     "traceback": [
      "\u001b[0;31m---------------------------------------------------------------------------\u001b[0m",
      "\u001b[0;31mTypeError\u001b[0m                                 Traceback (most recent call last)",
      "\u001b[0;32m<ipython-input-50-b19940c3e82b>\u001b[0m in \u001b[0;36m<module>\u001b[0;34m\u001b[0m\n\u001b[1;32m      1\u001b[0m \u001b[0mpool\u001b[0m \u001b[0;34m=\u001b[0m \u001b[0mPool\u001b[0m\u001b[0;34m(\u001b[0m\u001b[0;36m7\u001b[0m\u001b[0;34m)\u001b[0m\u001b[0;34m\u001b[0m\u001b[0;34m\u001b[0m\u001b[0m\n\u001b[0;32m----> 2\u001b[0;31m \u001b[0mzip\u001b[0m\u001b[0;34m(\u001b[0m\u001b[0;34m*\u001b[0m\u001b[0mpool\u001b[0m\u001b[0;34m.\u001b[0m\u001b[0mmap\u001b[0m\u001b[0;34m(\u001b[0m\u001b[0mmake_sum_pkl_for_file\u001b[0m\u001b[0;34m,\u001b[0m \u001b[0mmp3_files\u001b[0m\u001b[0;34m)\u001b[0m\u001b[0;34m)\u001b[0m\u001b[0;34m\u001b[0m\u001b[0;34m\u001b[0m\u001b[0m\n\u001b[0m",
      "\u001b[0;31mTypeError\u001b[0m: zip argument #1 must support iteration"
     ]
    }
   ],
   "source": [
    "pool = Pool(7)\n",
    "zip(*pool.map(make_sum_pkl_for_file, mp3_files))"
   ]
  },
  {
   "cell_type": "code",
   "execution_count": null,
   "metadata": {},
   "outputs": [],
   "source": [
    "with open( out_file_name+'_sum.pkl', 'wb') as f:\n",
    "    pickle.dump(spec_sums, f)"
   ]
  },
  {
   "cell_type": "code",
   "execution_count": null,
   "metadata": {},
   "outputs": [],
   "source": [
    "mp3_files[0]"
   ]
  },
  {
   "cell_type": "code",
   "execution_count": null,
   "metadata": {},
   "outputs": [],
   "source": [
    "# fig, ax = plt.subplots()\n",
    "# pcm = ax.pcolormesh(t, f, Sxx, norm=colors.PowerNorm(gamma=1./5.) )\n",
    "# fig.colorbar(pcm, ax=ax, extend='max')"
   ]
  },
  {
   "cell_type": "code",
   "execution_count": null,
   "metadata": {},
   "outputs": [],
   "source": [
    "fig, ax = plt.subplots()\n",
    "for idx in range(len(spec_sums)):\n",
    "    ax.plot(np.linspace(0,44100/2,len(spec_sums[idx]['s'])),  spec_sums[idx]['s'], alpha=0.5)\n"
   ]
  },
  {
   "cell_type": "code",
   "execution_count": null,
   "metadata": {},
   "outputs": [],
   "source": []
  }
 ],
 "metadata": {
  "kernelspec": {
   "display_name": "Python 3",
   "language": "python",
   "name": "python3"
  },
  "language_info": {
   "codemirror_mode": {
    "name": "ipython",
    "version": 3
   },
   "file_extension": ".py",
   "mimetype": "text/x-python",
   "name": "python",
   "nbconvert_exporter": "python",
   "pygments_lexer": "ipython3",
   "version": "3.6.8"
  }
 },
 "nbformat": 4,
 "nbformat_minor": 2
}
